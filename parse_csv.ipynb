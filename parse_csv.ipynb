{
 "cells": [
  {
   "cell_type": "code",
   "execution_count": 1,
   "metadata": {},
   "outputs": [],
   "source": [
    "import pandas as pd\n",
    "import numpy as np"
   ]
  },
  {
   "cell_type": "code",
   "execution_count": 2,
   "metadata": {},
   "outputs": [
    {
     "data": {
      "text/html": [
       "<div>\n",
       "<style scoped>\n",
       "    .dataframe tbody tr th:only-of-type {\n",
       "        vertical-align: middle;\n",
       "    }\n",
       "\n",
       "    .dataframe tbody tr th {\n",
       "        vertical-align: top;\n",
       "    }\n",
       "\n",
       "    .dataframe thead th {\n",
       "        text-align: right;\n",
       "    }\n",
       "</style>\n",
       "<table border=\"1\" class=\"dataframe\">\n",
       "  <thead>\n",
       "    <tr style=\"text-align: right;\">\n",
       "      <th></th>\n",
       "      <th>name</th>\n",
       "      <th>street address</th>\n",
       "      <th>suburb</th>\n",
       "      <th>style</th>\n",
       "      <th>phone number</th>\n",
       "      <th>website</th>\n",
       "      <th>date published</th>\n",
       "    </tr>\n",
       "  </thead>\n",
       "  <tbody>\n",
       "    <tr>\n",
       "      <th>0</th>\n",
       "      <td>Royal Palace Seafood Restaurant</td>\n",
       "      <td>393-399 Sussex Street</td>\n",
       "      <td>Haymarket</td>\n",
       "      <td>NaN</td>\n",
       "      <td>+61 2 9211 8518</td>\n",
       "      <td>https://www.instagram.com/royalpalacesyd/</td>\n",
       "      <td>2023-10-11</td>\n",
       "    </tr>\n",
       "    <tr>\n",
       "      <th>1</th>\n",
       "      <td>Deux Frères</td>\n",
       "      <td>6 Loftus Lane</td>\n",
       "      <td>Sydney</td>\n",
       "      <td>NaN</td>\n",
       "      <td>NaN</td>\n",
       "      <td>https://deuxfreres.com.au/</td>\n",
       "      <td>2023-12-05</td>\n",
       "    </tr>\n",
       "    <tr>\n",
       "      <th>2</th>\n",
       "      <td>Lima Nikkei</td>\n",
       "      <td>Shop 7&amp;8 16A Hickson Road</td>\n",
       "      <td>Dawes Point</td>\n",
       "      <td>NaN</td>\n",
       "      <td>NaN</td>\n",
       "      <td>https://limarestaurant.com.au/</td>\n",
       "      <td>2023-10-24</td>\n",
       "    </tr>\n",
       "    <tr>\n",
       "      <th>3</th>\n",
       "      <td>Messina Creative</td>\n",
       "      <td>1 Rich Street</td>\n",
       "      <td>Marrickville</td>\n",
       "      <td>NaN</td>\n",
       "      <td>+61 2 9231 1898</td>\n",
       "      <td>https://gelatomessina.com/pages/messina-creative</td>\n",
       "      <td>2023-10-18</td>\n",
       "    </tr>\n",
       "    <tr>\n",
       "      <th>4</th>\n",
       "      <td>Pearl Dining</td>\n",
       "      <td>50 Bridge Street</td>\n",
       "      <td>Sydney</td>\n",
       "      <td>NaN</td>\n",
       "      <td>+61 2 7227 6293</td>\n",
       "      <td>https://www.pearldining.com.au/?utm_content=Pe...</td>\n",
       "      <td>2023-10-11</td>\n",
       "    </tr>\n",
       "  </tbody>\n",
       "</table>\n",
       "</div>"
      ],
      "text/plain": [
       "                              name             street address        suburb  \\\n",
       "0  Royal Palace Seafood Restaurant      393-399 Sussex Street     Haymarket   \n",
       "1                      Deux Frères              6 Loftus Lane        Sydney   \n",
       "2                      Lima Nikkei  Shop 7&8 16A Hickson Road   Dawes Point   \n",
       "3                 Messina Creative              1 Rich Street  Marrickville   \n",
       "4                     Pearl Dining           50 Bridge Street        Sydney   \n",
       "\n",
       "  style     phone number                                            website  \\\n",
       "0   NaN  +61 2 9211 8518          https://www.instagram.com/royalpalacesyd/   \n",
       "1   NaN              NaN                         https://deuxfreres.com.au/   \n",
       "2   NaN              NaN                     https://limarestaurant.com.au/   \n",
       "3   NaN  +61 2 9231 1898   https://gelatomessina.com/pages/messina-creative   \n",
       "4   NaN  +61 2 7227 6293  https://www.pearldining.com.au/?utm_content=Pe...   \n",
       "\n",
       "  date published  \n",
       "0     2023-10-11  \n",
       "1     2023-12-05  \n",
       "2     2023-10-24  \n",
       "3     2023-10-18  \n",
       "4     2023-10-11  "
      ]
     },
     "execution_count": 2,
     "metadata": {},
     "output_type": "execute_result"
    }
   ],
   "source": [
    "sydney_rest = pd.read_csv('./export/sydney-restaurants.csv', parse_dates=['date published'])\n",
    "\n",
    "sydney_rest.head()"
   ]
  },
  {
   "cell_type": "code",
   "execution_count": 3,
   "metadata": {},
   "outputs": [
    {
     "name": "stdout",
     "output_type": "stream",
     "text": [
      "<class 'pandas.core.frame.DataFrame'>\n",
      "RangeIndex: 1247 entries, 0 to 1246\n",
      "Data columns (total 7 columns):\n",
      " #   Column          Non-Null Count  Dtype         \n",
      "---  ------          --------------  -----         \n",
      " 0   name            1247 non-null   object        \n",
      " 1   street address  1243 non-null   object        \n",
      " 2   suburb          1245 non-null   object        \n",
      " 3   style           255 non-null    object        \n",
      " 4   phone number    1070 non-null   object        \n",
      " 5   website         1195 non-null   object        \n",
      " 6   date published  1247 non-null   datetime64[ns]\n",
      "dtypes: datetime64[ns](1), object(6)\n",
      "memory usage: 68.3+ KB\n"
     ]
    }
   ],
   "source": [
    "sydney_rest.info()"
   ]
  },
  {
   "cell_type": "code",
   "execution_count": 4,
   "metadata": {},
   "outputs": [],
   "source": [
    "sydney_rest_copy = sydney_rest.copy()"
   ]
  },
  {
   "cell_type": "code",
   "execution_count": 5,
   "metadata": {},
   "outputs": [],
   "source": [
    "cols = [col.title() for col in sydney_rest_copy.columns]"
   ]
  },
  {
   "cell_type": "code",
   "execution_count": 6,
   "metadata": {},
   "outputs": [
    {
     "name": "stdout",
     "output_type": "stream",
     "text": [
      "<class 'pandas.core.frame.DataFrame'>\n",
      "RangeIndex: 1247 entries, 0 to 1246\n",
      "Data columns (total 7 columns):\n",
      " #   Column          Non-Null Count  Dtype         \n",
      "---  ------          --------------  -----         \n",
      " 0   Name            1247 non-null   object        \n",
      " 1   Street Address  1243 non-null   object        \n",
      " 2   Suburb          1245 non-null   object        \n",
      " 3   Style           255 non-null    object        \n",
      " 4   Phone Number    1070 non-null   object        \n",
      " 5   Website         1195 non-null   object        \n",
      " 6   Date Published  1247 non-null   datetime64[ns]\n",
      "dtypes: datetime64[ns](1), object(6)\n",
      "memory usage: 68.3+ KB\n"
     ]
    }
   ],
   "source": [
    "sydney_rest_copy.columns = cols\n",
    "\n",
    "sydney_rest_copy.info()"
   ]
  },
  {
   "cell_type": "code",
   "execution_count": 7,
   "metadata": {},
   "outputs": [],
   "source": [
    "sydney_rest_copy.to_excel('./export/sydney-restaurants-excel.xlsx', sheet_name=\"Sydney Restaurants\", index=False)"
   ]
  },
  {
   "cell_type": "code",
   "execution_count": 8,
   "metadata": {},
   "outputs": [
    {
     "data": {
      "text/plain": [
       "992"
      ]
     },
     "execution_count": 8,
     "metadata": {},
     "output_type": "execute_result"
    }
   ],
   "source": [
    "sydney_rest['style'].isna().sum()"
   ]
  }
 ],
 "metadata": {
  "kernelspec": {
   "display_name": ".venv",
   "language": "python",
   "name": "python3"
  },
  "language_info": {
   "codemirror_mode": {
    "name": "ipython",
    "version": 3
   },
   "file_extension": ".py",
   "mimetype": "text/x-python",
   "name": "python",
   "nbconvert_exporter": "python",
   "pygments_lexer": "ipython3",
   "version": "3.11.6"
  }
 },
 "nbformat": 4,
 "nbformat_minor": 2
}
